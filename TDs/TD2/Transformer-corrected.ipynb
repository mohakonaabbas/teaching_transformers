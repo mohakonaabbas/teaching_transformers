{
 "cells": [
  {
   "cell_type": "code",
   "execution_count": 117,
   "id": "5eea26f7",
   "metadata": {},
   "outputs": [],
   "source": [
    "import torch\n",
    "import torch.nn as nn\n",
    "from torch.nn import functional as F\n",
    "import matplotlib.pyplot as plt\n",
    "import time\n",
    "import math"
   ]
  },
  {
   "cell_type": "markdown",
   "id": "d089dfc3-ed80-45aa-90fc-f35bfe26e8de",
   "metadata": {},
   "source": [
    "# Votre premier transformer\n",
    "\n",
    "Nous allons implementer de zero en Pytorch chaque composant d'un transformer \n",
    "\n",
    "\n",
    "* Le transformer que nous allons implementer est le transformer original presenté dans le papier \"Attention is All you Need.\" Nous allons implementer au fur et à chaque composant. Le td est en 2 parties : Une partie sur la création d'un transformer, puis une partie sur l'entrainement qui permettra d'entrainer des transformers sur des données textuelles.\n",
    "\n",
    "![Transformers Architecture](https://i0.wp.com/i.postimg.cc/Bn7QmpQS/1-43lg-CTy-M5c-TTABj-C2-VEHd-A.png?resize=579%2C800&ssl=1)\n",
    "\n",
    "\n"
   ]
  },
  {
   "cell_type": "markdown",
   "id": "d68d898d",
   "metadata": {},
   "source": [
    "## Inputs Embeddings\n",
    "\n",
    "https://pytorch.org/docs/stable/generated/torch.nn.Embedding.html"
   ]
  },
  {
   "cell_type": "code",
   "execution_count": 118,
   "id": "fc1925d2",
   "metadata": {},
   "outputs": [],
   "source": [
    "class InputEmbedding(nn.Module):\n",
    "    def __init__(self, num_embeddings:int,\n",
    "                embedding_dim:int):\n",
    "        \n",
    "        super(InputEmbedding,self).__init__()\n",
    "       # TO DO\n",
    "\n",
    "        self.num_embeddings = num_embeddings\n",
    "        self.embedding_dim= embedding_dim\n",
    "        self.input_embeddings = nn.Embedding(num_embeddings,embedding_dim)\n",
    "        \n",
    "    def forward(self,x):\n",
    "        return self.input_embeddings(x)\n",
    "        "
   ]
  },
  {
   "cell_type": "code",
   "execution_count": 119,
   "id": "935ed19e",
   "metadata": {},
   "outputs": [
    {
     "data": {
      "text/plain": [
       "tensor([[[ 0.3982, -0.6401, -0.7175,  ...,  0.7007, -0.7013,  0.3252],\n",
       "         [ 0.3278,  0.9711, -1.7563,  ..., -1.1424,  0.1104, -1.3900],\n",
       "         [ 1.1459, -1.1696,  0.7409,  ...,  0.1801,  2.8298, -1.3048],\n",
       "         ...,\n",
       "         [ 0.1770,  0.1608,  1.0125,  ...,  0.4637, -0.8548, -0.4498],\n",
       "         [ 1.4501,  0.8602, -0.0657,  ...,  0.7402, -0.4848, -0.7427],\n",
       "         [-2.2599, -1.4112, -1.1976,  ..., -1.8756, -0.2930,  1.5682]],\n",
       "\n",
       "        [[-1.3411,  0.0181, -0.1823,  ...,  1.4571,  0.9370, -1.7317],\n",
       "         [-0.2431,  0.6883, -0.5443,  ...,  0.0522, -0.5109, -1.4534],\n",
       "         [ 0.6965,  1.9398,  1.0789,  ..., -0.9459,  1.0437, -0.6712],\n",
       "         ...,\n",
       "         [ 0.6965,  1.9398,  1.0789,  ..., -0.9459,  1.0437, -0.6712],\n",
       "         [-0.2431,  0.6883, -0.5443,  ...,  0.0522, -0.5109, -1.4534],\n",
       "         [-0.2431,  0.6883, -0.5443,  ...,  0.0522, -0.5109, -1.4534]],\n",
       "\n",
       "        [[ 0.3072, -0.5479, -1.8639,  ...,  2.6127,  0.2464,  0.6476],\n",
       "         [ 0.6965,  1.9398,  1.0789,  ..., -0.9459,  1.0437, -0.6712],\n",
       "         [ 1.4501,  0.8602, -0.0657,  ...,  0.7402, -0.4848, -0.7427],\n",
       "         ...,\n",
       "         [ 1.4501,  0.8602, -0.0657,  ...,  0.7402, -0.4848, -0.7427],\n",
       "         [-1.3411,  0.0181, -0.1823,  ...,  1.4571,  0.9370, -1.7317],\n",
       "         [ 1.4501,  0.8602, -0.0657,  ...,  0.7402, -0.4848, -0.7427]],\n",
       "\n",
       "        ...,\n",
       "\n",
       "        [[ 0.6965,  1.9398,  1.0789,  ..., -0.9459,  1.0437, -0.6712],\n",
       "         [ 0.0405, -0.5974, -0.0954,  ...,  1.5302, -0.4841, -0.1531],\n",
       "         [ 0.3982, -0.6401, -0.7175,  ...,  0.7007, -0.7013,  0.3252],\n",
       "         ...,\n",
       "         [ 0.3913,  0.3509, -0.9270,  ..., -1.7043, -0.9927,  0.4377],\n",
       "         [ 0.6965,  1.9398,  1.0789,  ..., -0.9459,  1.0437, -0.6712],\n",
       "         [ 1.9127,  0.1808,  0.8285,  ..., -0.1916,  0.4235, -0.7492]],\n",
       "\n",
       "        [[ 0.6965,  1.9398,  1.0789,  ..., -0.9459,  1.0437, -0.6712],\n",
       "         [-0.2431,  0.6883, -0.5443,  ...,  0.0522, -0.5109, -1.4534],\n",
       "         [ 0.3072, -0.5479, -1.8639,  ...,  2.6127,  0.2464,  0.6476],\n",
       "         ...,\n",
       "         [ 0.0405, -0.5974, -0.0954,  ...,  1.5302, -0.4841, -0.1531],\n",
       "         [-0.0098,  0.0722, -2.1120,  ..., -0.6330,  1.1298, -0.4769],\n",
       "         [-1.3411,  0.0181, -0.1823,  ...,  1.4571,  0.9370, -1.7317]],\n",
       "\n",
       "        [[-1.3411,  0.0181, -0.1823,  ...,  1.4571,  0.9370, -1.7317],\n",
       "         [ 0.3913,  0.3509, -0.9270,  ..., -1.7043, -0.9927,  0.4377],\n",
       "         [ 0.3982, -0.6401, -0.7175,  ...,  0.7007, -0.7013,  0.3252],\n",
       "         ...,\n",
       "         [-0.1332,  1.6827, -1.0338,  ..., -0.1650, -0.4103,  0.1114],\n",
       "         [ 1.4501,  0.8602, -0.0657,  ...,  0.7402, -0.4848, -0.7427],\n",
       "         [ 0.6965,  1.9398,  1.0789,  ..., -0.9459,  1.0437, -0.6712]]],\n",
       "       grad_fn=<EmbeddingBackward0>)"
      ]
     },
     "execution_count": 119,
     "metadata": {},
     "output_type": "execute_result"
    }
   ],
   "source": [
    "x = torch.randint(20,(10,10))\n",
    "num_embedding=5000\n",
    "embedding_dim = 784\n",
    "\n",
    "token_embedding = InputEmbedding(num_embedding,embedding_dim)\n",
    "token_embedding(x)"
   ]
  },
  {
   "cell_type": "markdown",
   "id": "324e7985",
   "metadata": {},
   "source": [
    "## Positional Encoding\n",
    "\n",
    "$$P(k,2i)= sin(\\frac{k}{n^{2i/d}})$$\n",
    "$$P(k,2i+1)= cos(\\frac{k}{n^{(2i)/d}})$$\n",
    "* k : longeur du contexte\n",
    "* d : taille de l'embedding\n",
    "* n : 10000 , hyperparamètre\n",
    "* $i \\in [0, d/2]$"
   ]
  },
  {
   "cell_type": "code",
   "execution_count": 120,
   "id": "f6ef2028",
   "metadata": {},
   "outputs": [],
   "source": [
    "class PositionalEmbedding(nn.Module):\n",
    "    def __init__(self, embedding_dim : int,\n",
    "                context_length : int,\n",
    "                user_defined_scalar : int = 10000):\n",
    "        \n",
    "        super(PositionalEmbedding,self).__init__()\n",
    "        \n",
    "        self.embedding_dim = embedding_dim\n",
    "        self.context_length = context_length\n",
    "\n",
    "        self.n = user_defined_scalar\n",
    "        \n",
    "        #Intialise positional embedding\n",
    "        self.positional_embeddings = torch.zeros((self.context_length, self.embedding_dim))\n",
    "        \n",
    "        k = torch.arange(self.context_length).unsqueeze(0) # Mettre k sous forme matricielle\n",
    "        \n",
    "        i = torch.arange(self.embedding_dim//2)\n",
    "        \n",
    "        # Fill the data\n",
    "\n",
    "        k, i = k.T.repeat(1,self.embedding_dim//2) ,i.repeat(self.context_length,1)\n",
    "\n",
    "        \n",
    "        denominator = torch.pow(self.n,2*i/self.embedding_dim)\n",
    "        \n",
    "        self.positional_embeddings[:,0::2]=torch.sin(k/(denominator))\n",
    "        self.positional_embeddings[:,1::2]=torch.cos(k/(denominator))\n",
    "        \n",
    "    def forward(self,x):\n",
    "        return self.positional_embeddings[x,:]\n",
    "        "
   ]
  },
  {
   "cell_type": "code",
   "execution_count": null,
   "id": "c78749cb",
   "metadata": {},
   "outputs": [],
   "source": []
  },
  {
   "cell_type": "code",
   "execution_count": 121,
   "id": "8ce3f529",
   "metadata": {},
   "outputs": [],
   "source": [
    "def display_positional_embedding(positional_embedding):\n",
    "    plt.imshow(positional_embedding.positional_embeddings,cmap='viridis')\n",
    "    plt.show()\n",
    "    "
   ]
  },
  {
   "cell_type": "code",
   "execution_count": 122,
   "id": "96ccea5e",
   "metadata": {},
   "outputs": [
    {
     "data": {
      "image/png": "[encoded data removed]",
      "text/plain": [
       "<Figure size 640x480 with 1 Axes>"
      ]
     },
     "metadata": {},
     "output_type": "display_data"
    }
   ],
   "source": [
    "tic = time.time()\n",
    "pe=PositionalEmbedding(126,50)\n",
    "toc = time.time()\n",
    "display_positional_embedding(pe)"
   ]
  },
  {
   "cell_type": "markdown",
   "id": "b81e3bd5",
   "metadata": {},
   "source": [
    "## Multihead Attention\n",
    "![Multi- Head Attention](https://i0.wp.com/i.postimg.cc/G23vwqn4/Screenshot-from-2019-06-17-22-47-53.webp?w=1230&ssl=1)"
   ]
  },
  {
   "cell_type": "markdown",
   "id": "cd129974",
   "metadata": {},
   "source": [
    "### Define a simple attention head\n",
    "* https://pytorch.org/docs/stable/generated/torch.nn.Linear.html\n",
    "* https://pytorch.org/docs/stable/generated/torch.matmul.html\n",
    "* https://pytorch.org/docs/stable/generated/torch.nn.functional.softmax.html"
   ]
  },
  {
   "cell_type": "code",
   "execution_count": 123,
   "id": "029e4a8b",
   "metadata": {},
   "outputs": [],
   "source": [
    "class SelfAttention(nn.Module):\n",
    "    def __init__(self, embedding_dim: int, hidden_dimension:int, out_dim : int = 0  ):\n",
    "        super(SelfAttention,self).__init__()\n",
    "        self.embedding_dim = embedding_dim\n",
    "        self.hidden_dimension = hidden_dimension\n",
    "        \n",
    "        self.Q = nn.Linear(self.embedding_dim,self.hidden_dimension, bias=False)\n",
    "        self.K = nn.Linear(self.embedding_dim,self.hidden_dimension, bias= False)\n",
    "        self.out_dim = out_dim\n",
    "        if out_dim ==0 : \n",
    "            self.out_dim = self.embedding_dim\n",
    "        \n",
    "            \n",
    "        self.V = nn.Linear(self.embedding_dim,self.out_dim,bias=False)\n",
    "    def forward(self,x):\n",
    "        B, T, C = x.size() # batch size, sequence length, embedding dimensionality (embedding_dim)\n",
    "        \n",
    "        q = self.Q(x)\n",
    "        k = self.K(x)\n",
    "        v = self.V(x)\n",
    "        \n",
    "        attention = torch.matmul(q,k.transpose(-2,-1))/math.sqrt(self.hidden_dimension)\n",
    "        attention = F.softmax(attention, dim=-1)\n",
    "\n",
    "        out = torch.matmul(attention,v)\n",
    "\n",
    "        return out, attention"
   ]
  },
  {
   "cell_type": "code",
   "execution_count": 124,
   "id": "e19fda76",
   "metadata": {},
   "outputs": [
    {
     "data": {
      "text/plain": [
       "tensor([[[0.0971, 0.0974, 0.1023,  ..., 0.0974, 0.0952, 0.1040],\n",
       "         [0.1010, 0.0889, 0.1054,  ..., 0.0969, 0.1005, 0.1002],\n",
       "         [0.0965, 0.0979, 0.1023,  ..., 0.0977, 0.0938, 0.1072],\n",
       "         ...,\n",
       "         [0.0996, 0.0952, 0.1012,  ..., 0.0961, 0.1002, 0.1030],\n",
       "         [0.0977, 0.0955, 0.1008,  ..., 0.0929, 0.0997, 0.1044],\n",
       "         [0.1000, 0.0962, 0.0974,  ..., 0.0948, 0.1009, 0.1043]],\n",
       "\n",
       "        [[0.0982, 0.1017, 0.0977,  ..., 0.0964, 0.0982, 0.1070],\n",
       "         [0.0960, 0.1001, 0.0959,  ..., 0.1024, 0.0982, 0.1115],\n",
       "         [0.0957, 0.1013, 0.0971,  ..., 0.0969, 0.1004, 0.1084],\n",
       "         ...,\n",
       "         [0.0960, 0.1019, 0.1013,  ..., 0.0947, 0.1002, 0.1059],\n",
       "         [0.0977, 0.1020, 0.0974,  ..., 0.0952, 0.0995, 0.1055],\n",
       "         [0.0979, 0.1007, 0.1009,  ..., 0.0960, 0.1001, 0.1033]],\n",
       "\n",
       "        [[0.1011, 0.1108, 0.1055,  ..., 0.0978, 0.0964, 0.0934],\n",
       "         [0.1058, 0.1031, 0.0958,  ..., 0.0993, 0.0992, 0.0970],\n",
       "         [0.1017, 0.1132, 0.0996,  ..., 0.0987, 0.1006, 0.0977],\n",
       "         ...,\n",
       "         [0.1008, 0.1087, 0.1000,  ..., 0.0994, 0.0994, 0.0987],\n",
       "         [0.1012, 0.1118, 0.1001,  ..., 0.0987, 0.0987, 0.0989],\n",
       "         [0.1025, 0.1053, 0.0968,  ..., 0.1000, 0.0998, 0.0986]],\n",
       "\n",
       "        ...,\n",
       "\n",
       "        [[0.1064, 0.1049, 0.1045,  ..., 0.0849, 0.1118, 0.1026],\n",
       "         [0.1015, 0.1041, 0.1036,  ..., 0.0926, 0.1074, 0.0986],\n",
       "         [0.1048, 0.1027, 0.0995,  ..., 0.0897, 0.1098, 0.1048],\n",
       "         ...,\n",
       "         [0.0988, 0.0994, 0.1026,  ..., 0.0939, 0.1105, 0.0996],\n",
       "         [0.1030, 0.0988, 0.1034,  ..., 0.0913, 0.1052, 0.1042],\n",
       "         [0.1044, 0.0970, 0.0988,  ..., 0.0914, 0.1096, 0.1042]],\n",
       "\n",
       "        [[0.1019, 0.0976, 0.1062,  ..., 0.0999, 0.0918, 0.0998],\n",
       "         [0.1046, 0.0986, 0.1047,  ..., 0.0978, 0.0934, 0.0950],\n",
       "         [0.1043, 0.0999, 0.0988,  ..., 0.1022, 0.0925, 0.0963],\n",
       "         ...,\n",
       "         [0.1110, 0.1025, 0.0972,  ..., 0.1033, 0.0972, 0.0960],\n",
       "         [0.1070, 0.1002, 0.1020,  ..., 0.1016, 0.0980, 0.0939],\n",
       "         [0.1061, 0.1026, 0.1007,  ..., 0.1014, 0.0926, 0.0994]],\n",
       "\n",
       "        [[0.0978, 0.1044, 0.0972,  ..., 0.0949, 0.1020, 0.1015],\n",
       "         [0.1027, 0.1043, 0.1031,  ..., 0.0918, 0.0959, 0.0998],\n",
       "         [0.0924, 0.1074, 0.0985,  ..., 0.0946, 0.1074, 0.1001],\n",
       "         ...,\n",
       "         [0.0972, 0.1063, 0.1036,  ..., 0.0901, 0.0996, 0.1002],\n",
       "         [0.1008, 0.1002, 0.1021,  ..., 0.0904, 0.1029, 0.1009],\n",
       "         [0.0959, 0.1027, 0.1055,  ..., 0.0928, 0.0997, 0.1024]]],\n",
       "       grad_fn=<SoftmaxBackward0>)"
      ]
     },
     "execution_count": 124,
     "metadata": {},
     "output_type": "execute_result"
    }
   ],
   "source": [
    "x = torch.rand((11,10,784))\n",
    "sa_module = SelfAttention(784,10)\n",
    "out, attention = sa_module(x)\n",
    "out.shape , attention.shape\n",
    "attention"
   ]
  },
  {
   "cell_type": "markdown",
   "id": "d8299b39",
   "metadata": {},
   "source": [
    "### Masked MultiHead Attention\n",
    "* https://pytorch.org/docs/stable/generated/torch.Tensor.masked_fill_.html\n",
    "* https://pytorch.org/docs/stable/generated/torch.nn.functional.softmax.html"
   ]
  },
  {
   "cell_type": "code",
   "execution_count": 125,
   "id": "2cd30e5e",
   "metadata": {},
   "outputs": [],
   "source": [
    "class MaskedSelfAttention(SelfAttention):\n",
    "    def __init__(self, embedding_dim: int, hidden_dimension:int,out_dim : int = 0  ):\n",
    "        super(MaskedSelfAttention,self).__init__(embedding_dim,hidden_dimension,out_dim)\n",
    "        # self.embedding_dim = embedding_dim\n",
    "        # self.hidden_dimension = hidden_dimension\n",
    "        \n",
    "        # self.Q = nn.Linear(self.embedding_dim,self.hidden_dimension, bias=False)\n",
    "        # self.K = nn.Linear(self.embedding_dim,self.hidden_dimension, bias= False)\n",
    "        # self.V = nn.Linear(self.embedding_dim,self.embedding_dim,bias=False)\n",
    "        \n",
    "    def forward(self,x):\n",
    "        B, T, C = x.size() # batch size, sequence length, embedding dimensionality (embedding_dim)\n",
    "        \n",
    "        q = self.Q(x)\n",
    "        k = self.K(x)\n",
    "        v = self.V(x)\n",
    "        \n",
    "        mask= torch.tril(torch.ones(B,T,T))\n",
    "        mask = mask.to(x.device)\n",
    "\n",
    "        attention = torch.matmul(q,k.transpose(-2,-1))/math.sqrt(self.hidden_dimension)\n",
    "\n",
    "        attention = attention.masked_fill(mask ==0 , float(\"-inf\"))\n",
    "\n",
    "        attention = F.softmax(attention, dim=-1)\n",
    "\n",
    "        out = torch.matmul(attention,v)\n",
    "\n",
    "        return out, attention"
   ]
  },
  {
   "cell_type": "code",
   "execution_count": 126,
   "id": "41d14a8f",
   "metadata": {},
   "outputs": [
    {
     "data": {
      "text/plain": [
       "tensor([[[1.0000, 0.0000, 0.0000,  ..., 0.0000, 0.0000, 0.0000],\n",
       "         [0.5066, 0.4934, 0.0000,  ..., 0.0000, 0.0000, 0.0000],\n",
       "         [0.3360, 0.3287, 0.3352,  ..., 0.0000, 0.0000, 0.0000],\n",
       "         ...,\n",
       "         [0.1351, 0.1245, 0.1221,  ..., 0.1265, 0.0000, 0.0000],\n",
       "         [0.1108, 0.1116, 0.1106,  ..., 0.1100, 0.1122, 0.0000],\n",
       "         [0.0998, 0.1002, 0.0986,  ..., 0.1007, 0.1036, 0.0988]],\n",
       "\n",
       "        [[1.0000, 0.0000, 0.0000,  ..., 0.0000, 0.0000, 0.0000],\n",
       "         [0.4854, 0.5146, 0.0000,  ..., 0.0000, 0.0000, 0.0000],\n",
       "         [0.3211, 0.3475, 0.3314,  ..., 0.0000, 0.0000, 0.0000],\n",
       "         ...,\n",
       "         [0.1249, 0.1234, 0.1209,  ..., 0.1189, 0.0000, 0.0000],\n",
       "         [0.1071, 0.1115, 0.1066,  ..., 0.1065, 0.1130, 0.0000],\n",
       "         [0.0930, 0.1021, 0.0929,  ..., 0.0982, 0.1031, 0.1080]],\n",
       "\n",
       "        [[1.0000, 0.0000, 0.0000,  ..., 0.0000, 0.0000, 0.0000],\n",
       "         [0.4833, 0.5167, 0.0000,  ..., 0.0000, 0.0000, 0.0000],\n",
       "         [0.3175, 0.3201, 0.3623,  ..., 0.0000, 0.0000, 0.0000],\n",
       "         ...,\n",
       "         [0.1152, 0.1128, 0.1329,  ..., 0.1286, 0.0000, 0.0000],\n",
       "         [0.1039, 0.1073, 0.1165,  ..., 0.1133, 0.1076, 0.0000],\n",
       "         [0.0917, 0.1015, 0.1062,  ..., 0.0950, 0.0991, 0.0971]],\n",
       "\n",
       "        ...,\n",
       "\n",
       "        [[1.0000, 0.0000, 0.0000,  ..., 0.0000, 0.0000, 0.0000],\n",
       "         [0.4917, 0.5083, 0.0000,  ..., 0.0000, 0.0000, 0.0000],\n",
       "         [0.3390, 0.3317, 0.3293,  ..., 0.0000, 0.0000, 0.0000],\n",
       "         ...,\n",
       "         [0.1238, 0.1178, 0.1149,  ..., 0.1218, 0.0000, 0.0000],\n",
       "         [0.1078, 0.1094, 0.1006,  ..., 0.1119, 0.1075, 0.0000],\n",
       "         [0.0986, 0.0985, 0.0963,  ..., 0.1008, 0.0901, 0.0991]],\n",
       "\n",
       "        [[1.0000, 0.0000, 0.0000,  ..., 0.0000, 0.0000, 0.0000],\n",
       "         [0.4975, 0.5025, 0.0000,  ..., 0.0000, 0.0000, 0.0000],\n",
       "         [0.3487, 0.3527, 0.2986,  ..., 0.0000, 0.0000, 0.0000],\n",
       "         ...,\n",
       "         [0.1295, 0.1325, 0.1192,  ..., 0.1240, 0.0000, 0.0000],\n",
       "         [0.1156, 0.1149, 0.1036,  ..., 0.1098, 0.1103, 0.0000],\n",
       "         [0.0993, 0.1017, 0.0940,  ..., 0.1011, 0.1000, 0.1053]],\n",
       "\n",
       "        [[1.0000, 0.0000, 0.0000,  ..., 0.0000, 0.0000, 0.0000],\n",
       "         [0.5283, 0.4717, 0.0000,  ..., 0.0000, 0.0000, 0.0000],\n",
       "         [0.3626, 0.3072, 0.3302,  ..., 0.0000, 0.0000, 0.0000],\n",
       "         ...,\n",
       "         [0.1266, 0.1218, 0.1275,  ..., 0.1241, 0.0000, 0.0000],\n",
       "         [0.1118, 0.1059, 0.1152,  ..., 0.1117, 0.1192, 0.0000],\n",
       "         [0.0985, 0.0923, 0.0989,  ..., 0.0960, 0.1167, 0.1030]]],\n",
       "       grad_fn=<SoftmaxBackward0>)"
      ]
     },
     "execution_count": 126,
     "metadata": {},
     "output_type": "execute_result"
    }
   ],
   "source": [
    "x = torch.rand((11,10,784))\n",
    "sa_module = MaskedSelfAttention(784,10)\n",
    "out, attention = sa_module(x)\n",
    "out.shape , attention.shape\n",
    "attention"
   ]
  },
  {
   "cell_type": "markdown",
   "id": "2851ddac",
   "metadata": {},
   "source": [
    "### Define multihead attention"
   ]
  },
  {
   "cell_type": "code",
   "execution_count": 127,
   "id": "76901ada",
   "metadata": {},
   "outputs": [],
   "source": [
    "class MultiHeadAttention(nn.Module):\n",
    "    def __init__(self, embedding_dim : int , n_head :int, hidden_dimension : int ):\n",
    "        super(MultiHeadAttention, self).__init__()\n",
    "        self.n_head = n_head\n",
    "        self.projector = nn.Linear(embedding_dim,embedding_dim)\n",
    "        self.hidden_dimension = hidden_dimension\n",
    "        self.heads = nn.ModuleList([SelfAttention(embedding_dim,self.hidden_dimension, out_dim= embedding_dim//n_head) for i in range(self.n_head)])\n",
    "        \n",
    "    def forward(self,x):\n",
    "        B, T, C = x.size() # batch size, sequence length, embedding dimensionality (embedding_dim)\n",
    "        \n",
    "        int_outs = []\n",
    "        int_attentions = []\n",
    "        for head in self.heads:\n",
    "            out, attn = head(x)\n",
    "            int_attentions.append(attn)\n",
    "            int_outs.append(out)\n",
    "        out = torch.concatenate(int_outs,dim=-1)\n",
    "        out = self.projector(out)\n",
    "        out_attention = torch.stack(int_attentions,dim = 1)\n",
    "        return out , out_attention\n",
    "            \n",
    "            "
   ]
  },
  {
   "cell_type": "code",
   "execution_count": 128,
   "id": "b30eb99e",
   "metadata": {},
   "outputs": [
    {
     "data": {
      "text/plain": [
       "(torch.Size([11, 10, 784]), torch.Size([11, 4, 10, 10]))"
      ]
     },
     "execution_count": 128,
     "metadata": {},
     "output_type": "execute_result"
    }
   ],
   "source": [
    "embedding_dim = 784\n",
    "n_heads = 4\n",
    "hidden_dimension = 784\n",
    "context_lenght = 10\n",
    "bs = 11\n",
    "mha = MultiHeadAttention(embedding_dim,n_heads,hidden_dimension)\n",
    "x = torch.rand((bs,context_lenght,embedding_dim))\n",
    "out, attention = mha(x)\n",
    "out.shape , attention.shape"
   ]
  },
  {
   "cell_type": "markdown",
   "id": "038263f5",
   "metadata": {},
   "source": [
    "## Masked Multihead Attention"
   ]
  },
  {
   "cell_type": "code",
   "execution_count": 129,
   "id": "ec325222",
   "metadata": {},
   "outputs": [],
   "source": [
    "class MaskedMultiHeadAttention(MultiHeadAttention):\n",
    "    def __init__(self, embedding_dim : int , n_head :int, hidden_dimension : int ):\n",
    "        super(MaskedMultiHeadAttention, self).__init__(embedding_dim,n_head,hidden_dimension)\n",
    "        self.heads = nn.ModuleList([MaskedSelfAttention(embedding_dim,self.hidden_dimension, out_dim= embedding_dim//n_head) for i in range(self.n_head)])"
   ]
  },
  {
   "cell_type": "code",
   "execution_count": 130,
   "id": "9793e827",
   "metadata": {},
   "outputs": [
    {
     "data": {
      "text/plain": [
       "(torch.Size([11, 10, 784]), torch.Size([11, 16, 10, 10]))"
      ]
     },
     "execution_count": 130,
     "metadata": {},
     "output_type": "execute_result"
    }
   ],
   "source": [
    "embedding_dim = 784\n",
    "n_heads = 16\n",
    "hidden_dimension = 784\n",
    "context_lenght = 10\n",
    "bs = 11\n",
    "mha = MaskedMultiHeadAttention(embedding_dim,n_heads,hidden_dimension)\n",
    "x = torch.rand((bs,context_lenght,embedding_dim))\n",
    "out, attention = mha(x)\n",
    "out.shape , attention.shape"
   ]
  },
  {
   "cell_type": "markdown",
   "id": "eb835d57",
   "metadata": {},
   "source": [
    "## Cross MultiHead Attention"
   ]
  },
  {
   "cell_type": "code",
   "execution_count": 131,
   "id": "b2706c15",
   "metadata": {},
   "outputs": [],
   "source": [
    "class CrossAttention(nn.Module):\n",
    "    def __init__(self, embedding_dim: int, hidden_dimension:int, out_dim : int = 0  ):\n",
    "        super(CrossAttention,self).__init__()\n",
    "        self.embedding_dim = embedding_dim\n",
    "        self.hidden_dimension = hidden_dimension\n",
    "        \n",
    "        self.Q = nn.Linear(self.embedding_dim,self.hidden_dimension, bias=False)\n",
    "        self.K = nn.Linear(self.embedding_dim,self.hidden_dimension, bias= False)\n",
    "        self.out_dim = out_dim\n",
    "        if out_dim ==0 : \n",
    "            self.out_dim = self.embedding_dim\n",
    "        \n",
    "            \n",
    "        self.V = nn.Linear(self.embedding_dim,self.out_dim,bias=False)\n",
    "    def forward(self, x , context):\n",
    "        B_dec, T_dec, C__dec = x.size() # batch size, sequence length, embedding dimensionality (embedding_dim)\n",
    "        B, T, C = context.size() # batch size, sequence length, embedding dimensionality (embedding_dim)\n",
    "        \n",
    "        q = self.Q(x)\n",
    "        k = self.K(context)\n",
    "        v = self.V(context)\n",
    "        \n",
    "        attention = torch.matmul(q,k.transpose(-2,-1))/math.sqrt(self.hidden_dimension)\n",
    "        attention = F.softmax(attention, dim=-1)\n",
    "\n",
    "        out = torch.matmul(attention,v)\n",
    "\n",
    "        return out, attention"
   ]
  },
  {
   "cell_type": "code",
   "execution_count": 132,
   "id": "31820727",
   "metadata": {},
   "outputs": [],
   "source": [
    "class CrossMultiHeadAttention(MultiHeadAttention):\n",
    "    def __init__(self, embedding_dim : int , n_head :int, hidden_dimension : int ):\n",
    "        super(CrossMultiHeadAttention, self).__init__(embedding_dim,n_head,hidden_dimension)\n",
    "        self.heads = nn.ModuleList([CrossAttention(embedding_dim,self.hidden_dimension, out_dim= embedding_dim//n_head) for i in range(self.n_head)])\n",
    "        \n",
    "    def forward(self,x,context):\n",
    "        B, T, C = x.size() # batch size, sequence length, embedding dimensionality (embedding_dim)\n",
    "        \n",
    "        int_outs = []\n",
    "        int_attentions = []\n",
    "        for head in self.heads:\n",
    "            out, attn = head(x,context)\n",
    "            int_attentions.append(attn)\n",
    "            int_outs.append(out)\n",
    "        out = torch.concatenate(int_outs,dim=-1)\n",
    "        out = self.projector(out)\n",
    "        out_attention = torch.stack(int_attentions,dim = 1)\n",
    "        return out , out_attention"
   ]
  },
  {
   "cell_type": "code",
   "execution_count": 133,
   "id": "80f53a8e",
   "metadata": {},
   "outputs": [
    {
     "data": {
      "text/plain": [
       "(torch.Size([11, 10, 784]), torch.Size([11, 16, 10, 5]))"
      ]
     },
     "execution_count": 133,
     "metadata": {},
     "output_type": "execute_result"
    }
   ],
   "source": [
    "embedding_dim = 784\n",
    "n_heads = 16\n",
    "hidden_dimension = 784\n",
    "context_lenght = 10\n",
    "bs = 11\n",
    "cha = CrossMultiHeadAttention(embedding_dim,n_heads,hidden_dimension)\n",
    "x = torch.rand((bs,context_lenght,embedding_dim))\n",
    "context = torch.rand((bs,context_lenght//2,embedding_dim))\n",
    "out, attention = cha(x,context)\n",
    "out.shape , attention.shape"
   ]
  },
  {
   "cell_type": "markdown",
   "id": "297de72a",
   "metadata": {},
   "source": [
    "\n",
    "\n",
    "## Feed Forward Layer"
   ]
  },
  {
   "cell_type": "code",
   "execution_count": 134,
   "id": "57637845",
   "metadata": {},
   "outputs": [],
   "source": [
    "class FeedForward(nn.Module):\n",
    "    def __init__(self, embedding_dim, hidden_dim):\n",
    "        super(FeedForward, self).__init__()\n",
    "        self.linear1 = nn.Linear(embedding_dim, hidden_dim)\n",
    "        self.linear2 = nn.Linear(hidden_dim, embedding_dim)\n",
    "        self.relu = nn.ReLU()\n",
    "\n",
    "    def forward(self, x):\n",
    "        return self.linear2(self.relu(self.linear1(x)))\n"
   ]
  },
  {
   "cell_type": "markdown",
   "id": "694308a8",
   "metadata": {},
   "source": [
    "## Block"
   ]
  },
  {
   "cell_type": "code",
   "execution_count": 135,
   "id": "228cd810",
   "metadata": {},
   "outputs": [],
   "source": [
    "class EncoderBlock(nn.Module):\n",
    "    def __init__(self, embedding_dim: int,\n",
    "                 qk_hidden_dimension:int,\n",
    "                 feedforward_hidden_dimension : int,\n",
    "                 n_heads : int   ):\n",
    "        super(EncoderBlock, self).__init__()\n",
    "        \n",
    "        self.n_heads = n_heads\n",
    "        self.embedding_dim = embedding_dim\n",
    "        self.qk_hidden_dimension = qk_hidden_dimension\n",
    "        self.feedforward_hidden_dimension = feedforward_hidden_dimension\n",
    "        self.multiHeadAttention = MultiHeadAttention(self.embedding_dim,self.n_heads,self.qk_hidden_dimension)\n",
    "        self.feed_forward= FeedForward(self.embedding_dim, self.feedforward_hidden_dimension)\n",
    "        self.layer_norm1 = nn.LayerNorm(self.embedding_dim)\n",
    "        self.layer_norm2 = nn.LayerNorm(self.embedding_dim)\n",
    "        \n",
    "    def forward(self,x):\n",
    "        x1,att1 = self.multiHeadAttention(x)\n",
    "        x1 = x + self.layer_norm1(x1)\n",
    "        x1 = self.feed_forward(x1)\n",
    "        out = x1 + self.layer_norm2(x1)\n",
    "        return out, att1\n",
    "        \n",
    "        "
   ]
  },
  {
   "cell_type": "code",
   "execution_count": 136,
   "id": "45c4e910",
   "metadata": {},
   "outputs": [
    {
     "data": {
      "text/plain": [
       "(torch.Size([11, 10, 784]), torch.Size([11, 16, 10, 10]))"
      ]
     },
     "execution_count": 136,
     "metadata": {},
     "output_type": "execute_result"
    }
   ],
   "source": [
    "embedding_dim = 784\n",
    "n_heads = 16\n",
    "hidden_dimension = 784\n",
    "context_lenght = 10\n",
    "bs = 11\n",
    "n_blocks  = 5\n",
    "vocab_size = 3000\n",
    "context_size = 40\n",
    "enc_bloc = EncoderBlock(embedding_dim,hidden_dimension,hidden_dimension,n_heads)\n",
    "x = torch.rand((bs,context_lenght,embedding_dim))\n",
    "enc , attn = enc_bloc(x)\n",
    "enc.shape , attn.shape"
   ]
  },
  {
   "cell_type": "markdown",
   "id": "b6ec1a0c",
   "metadata": {},
   "source": [
    "## Encoder"
   ]
  },
  {
   "cell_type": "code",
   "execution_count": 137,
   "id": "189f91ee",
   "metadata": {},
   "outputs": [],
   "source": [
    "class TransformerEncoder(nn.Module):\n",
    "    def __init__(self, embedding_dim: int,\n",
    "                 qk_hidden_dimension:int,\n",
    "                 feedforward_hidden_dimension : int,\n",
    "                 n_heads : int ,\n",
    "                n_blocks : int,\n",
    "                vocab_size : int,\n",
    "                context_size : int):\n",
    "        super(TransformerEncoder, self).__init__()\n",
    "        \n",
    "        self.pe = PositionalEmbedding(embedding_dim,context_size)\n",
    "        self.te = InputEmbedding( vocab_size , embedding_dim)\n",
    "        self.blocks = nn.ModuleList([EncoderBlock(embedding_dim,\n",
    "                                                  qk_hidden_dimension,\n",
    "                                                  feedforward_hidden_dimension,\n",
    "                                                  n_heads) for i in range(n_blocks)])\n",
    "    def forward(self,x):\n",
    "        B, T = x.size() # batch size, sequence length\n",
    "        attns = []\n",
    "        pos_x = torch.arange(T).unsqueeze(0).repeat(B,1)\n",
    "        x_emb = self.pe(pos_x)+self.te(x)\n",
    "        for block in self.blocks:\n",
    "            x_emb , attn = block(x_emb)\n",
    "            attns.append(attn)\n",
    "        return x_emb , attns\n",
    "                                    \n",
    "                                               "
   ]
  },
  {
   "cell_type": "code",
   "execution_count": 138,
   "id": "e762e1b1",
   "metadata": {},
   "outputs": [
    {
     "data": {
      "text/plain": [
       "(torch.Size([10, 25, 784]), 5, torch.Size([10, 16, 25, 25]))"
      ]
     },
     "execution_count": 138,
     "metadata": {},
     "output_type": "execute_result"
    }
   ],
   "source": [
    "encoder = TransformerEncoder(embedding_dim,hidden_dimension,hidden_dimension,n_heads,n_blocks,vocab_size, context_size)\n",
    "x = torch.randint(20,(10,25))\n",
    "encoding , attns = encoder(x)\n",
    "encoding.shape , len(attns), attns[0].shape"
   ]
  },
  {
   "cell_type": "markdown",
   "id": "c706354e",
   "metadata": {},
   "source": [
    "## Decoder\n",
    "\n",
    "# A vous de jouer\n",
    "\n",
    "En reutilisant au maximum les composants au dessus, implementer le decodeur et le transformeur final"
   ]
  },
  {
   "cell_type": "code",
   "execution_count": null,
   "id": "cd422958",
   "metadata": {},
   "outputs": [],
   "source": []
  },
  {
   "cell_type": "markdown",
   "id": "f2d95803",
   "metadata": {},
   "source": [
    "## Transformer\n",
    "\n"
   ]
  },
  {
   "cell_type": "code",
   "execution_count": null,
   "id": "5d89c194",
   "metadata": {},
   "outputs": [],
   "source": []
  }
 ],
 "metadata": {
  "kernelspec": {
   "display_name": "transformers",
   "language": "python",
   "name": "python3"
  },
  "language_info": {
   "codemirror_mode": {
    "name": "ipython",
    "version": 3
   },
   "file_extension": ".py",
   "mimetype": "text/x-python",
   "name": "python",
   "nbconvert_exporter": "python",
   "pygments_lexer": "ipython3",
   "version": "3.12.9"
  }
 },
 "nbformat": 4,
 "nbformat_minor": 5
}
