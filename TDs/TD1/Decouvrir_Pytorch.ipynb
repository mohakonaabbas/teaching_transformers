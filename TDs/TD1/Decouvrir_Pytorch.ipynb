{
 "cells": [
  {
   "cell_type": "markdown",
   "metadata": {},
   "source": [
    "## Introduction à Pytorch "
   ]
  },
  {
   "cell_type": "markdown",
   "metadata": {},
   "source": [
    "# Pourquoi apprendre Pytorch ?\n",
    "\n",
    "* Momentum dans la recherche\n",
    "https://trends.google.com/trends/explore?date=all&geo=FR&q=pytorch,keras&hl=fr\n",
    "\n",
    "* Pytorch est très performant\n",
    "\n",
    "![Performance of frameworks](https://unfoldai.com/storage/2024/08/keras-pytorch-performance.jpg)\n",
    "\n",
    "\n",
    "\n"
   ]
  },
  {
   "cell_type": "markdown",
   "metadata": {},
   "source": [
    "## Pourquoi PyTorch pourrait être préféré à Keras : Une comparaison\n",
    "\n",
    "**PyTorch** et **Keras** sont deux bibliothèques Python populaires pour le deep learning, chacune avec ses forces et ses faiblesses. Choisir l'une ou l'autre dépend souvent des besoins spécifiques du projet. Voici quelques raisons pour lesquelles un développeur pourrait préférer PyTorch à Keras :\n",
    "\n",
    "### 1. **Flexibilité et contrôle:**\n",
    "* **Graphiques dynamiques:** PyTorch offre une grande flexibilité grâce à ses graphiques dynamiques, permettant de modifier le modèle à la volée. Cela est particulièrement utile pour la recherche et les modèles expérimentaux.\n",
    "* **Bas niveau:** PyTorch est plus proche du matériel, ce qui donne un meilleur contrôle sur l'optimisation et le débogage.\n",
    "* **Intégration avec d'autres outils:** PyTorch s'intègre facilement avec d'autres bibliothèques Python, ce qui le rend très polyvalent.\n",
    "\n",
    "### 2. **Communauté et écosystème:**\n",
    "* **Recherche active:** PyTorch est très populaire dans la communauté de recherche en apprentissage profond, ce qui signifie que de nouvelles fonctionnalités et améliorations sont souvent ajoutées.\n",
    "* **Grand écosystème:** PyTorch dispose d'un écosystème riche et en constante évolution, avec de nombreux outils et bibliothèques complémentaires.\n",
    "\n",
    "### 3. **Performances:**\n",
    "* **Tensor opérations:** PyTorch offre des performances élevées grâce à son optimisation des opérations sur les tenseurs.\n",
    "* **GPU accélération:** PyTorch est bien intégré avec les GPU, ce qui est essentiel pour les modèles de deep learning exigeants.\n",
    "\n",
    "### 4. **Pythonic:**\n",
    "* **Naturel:** PyTorch est conçu pour être très Pythonic, ce qui facilite l'apprentissage et l'utilisation pour les développeurs Python expérimentés.\n",
    "\n"
   ]
  },
  {
   "cell_type": "markdown",
   "metadata": {},
   "source": [
    "\n",
    "# Un entrainement classique\n",
    "\n",
    "nn.Module\n",
    "\n",
    "__init__\n",
    "\n",
    "Forward(self)\n",
    "\n",
    " \n",
    "\n",
    "Paramètres entrainables\n",
    "\n",
    "nn.Parameters\n",
    "\n",
    ".eval()\n",
    "\n",
    ".train()\n",
    "\n",
    ".to(device)\n",
    "\n",
    " \n",
    "\n",
    "Training\n",
    "\n",
    "Loss.backward()\n",
    "\n",
    "Optimiser.step()\n",
    "\n",
    "Add parameters to optimisers\n",
    "\n",
    " \n",
    "\n",
    "\n",
    "Saving / loading\n",
    "\n",
    "Attention au state dict ou au modèle\n",
    "\n"
   ]
  },
  {
   "cell_type": "markdown",
   "metadata": {},
   "source": [
    "Créer un module custom\n",
    "\n",
    "Resnet Block / Convolution à Trous/ Layer Normalisation\n",
    "\n",
    "Exercice : Faire un couche de convolution qui est une combinaison linaire de paramètres\n",
    "\n"
   ]
  },
  {
   "cell_type": "markdown",
   "metadata": {},
   "source": [
    "Créer un réseau Custom\n",
    "\n",
    "Construire Resnet18 / Small Mask RCNN\n",
    "\n"
   ]
  },
  {
   "cell_type": "markdown",
   "metadata": {},
   "source": [
    "Chargement de données efficaces\n",
    "\n",
    "Dataloader and dataset\n",
    "\n",
    "Caching data\n",
    "\n",
    " \n",
    "\n",
    "Exercice : accélérer au maximum le chargement des donnée"
   ]
  },
  {
   "cell_type": "markdown",
   "metadata": {},
   "source": []
  }
 ],
 "metadata": {
  "kernelspec": {
   "display_name": "phd",
   "language": "python",
   "name": "python3"
  },
  "language_info": {
   "codemirror_mode": {
    "name": "ipython",
    "version": 3
   },
   "file_extension": ".py",
   "mimetype": "text/x-python",
   "name": "python",
   "nbconvert_exporter": "python",
   "pygments_lexer": "ipython3",
   "version": "3.10.14"
  }
 },
 "nbformat": 4,
 "nbformat_minor": 2
}
