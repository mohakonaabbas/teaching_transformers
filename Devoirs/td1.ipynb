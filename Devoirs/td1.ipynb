{
 "cells": [
  {
   "cell_type": "markdown",
   "metadata": {},
   "source": [
    "# A rendre pour le 12 Octobre 2025 , 00h00"
   ]
  },
  {
   "cell_type": "markdown",
   "metadata": {},
   "source": [
    "# Exercice 1"
   ]
  },
  {
   "cell_type": "markdown",
   "metadata": {},
   "source": [
    "Le but de cet exercice est d'utiliser de manière avancée la classe nn.Module de Pytorch.\n",
    "Pour ce faire, il faut créer un Module Pytorch dont les paramètres seront la combinaison linéaire de autres modules semblables."
   ]
  },
  {
   "cell_type": "code",
   "execution_count": null,
   "metadata": {},
   "outputs": [],
   "source": [
    "import torch\n",
    "import torch.nn as nn"
   ]
  },
  {
   "cell_type": "code",
   "execution_count": null,
   "metadata": {},
   "outputs": [],
   "source": [
    "# Fully connected neural network with one hidden layer\n",
    "class NeuralNet(nn.Module):\n",
    "    def __init__(self, input_size, hidden_size, out_dim):\n",
    "        \"\"\"\n",
    "        Args\n",
    "        input_size : Taille d'entrée\n",
    "        hidden_size : dimension couches cachées\n",
    "        out_dim : dimension de sortie\n",
    "\n",
    "        \"\"\"\n",
    "        super(NeuralNet, self).__init__()\n",
    "        self.fc1 = nn.Linear(input_size, hidden_size) \n",
    "        self.activation = nn.Sigmoid()\n",
    "        self.fc2 = nn.Linear(hidden_size, hidden_size)  \n",
    "        self.fc3 = nn.Linear(hidden_size, out_dim) \n",
    "\n",
    "    \n",
    "    def forward(self, x):\n",
    "        \n",
    "        out = self.fc1(x)\n",
    "        out = self.activation(out)\n",
    "        out = self.fc2(out)\n",
    "        out = self.activation(out)\n",
    "        out = self.fc3(out)\n",
    "        return out"
   ]
  },
  {
   "cell_type": "code",
   "execution_count": null,
   "metadata": {},
   "outputs": [],
   "source": [
    "\n",
    "device = torch.device(\"cuda\") if torch.cuda.is_available() else torch.device(\"cpu\")"
   ]
  },
  {
   "cell_type": "code",
   "execution_count": null,
   "metadata": {},
   "outputs": [],
   "source": [
    "input_size = 1\n",
    "hidden_size = 32\n",
    "num_classes = 1\n",
    "modelA = NeuralNet(input_size, hidden_size, num_classes).to(device)\n",
    "modelB = NeuralNet(input_size, hidden_size, num_classes).to(device)"
   ]
  },
  {
   "cell_type": "code",
   "execution_count": null,
   "metadata": {},
   "outputs": [],
   "source": []
  },
  {
   "cell_type": "markdown",
   "metadata": {},
   "source": [
    "Modifier la classe ci-dessous pour que chaque paramètre du modèle soit une combinaison lineaire des modèles"
   ]
  },
  {
   "cell_type": "markdown",
   "metadata": {},
   "source": [
    "# Create the model"
   ]
  },
  {
   "cell_type": "code",
   "execution_count": null,
   "metadata": {},
   "outputs": [],
   "source": [
    "import torch\n",
    "import torch.nn as nn\n",
    "\n",
    "class LinearCombinationNet(nn.Module):\n",
    "    def __init__(self, net1, net2):\n",
    "        \"\"\"\n",
    "        Args:\n",
    "            net1: First instance of NeuralNet\n",
    "            net2: Second instance of NeuralNet\n",
    "        \"\"\"\n",
    "        super(LinearCombinationNet, self).__init__()\n",
    "        \n",
    "        # Store the two base networks (freeze their parameters)\n",
    "        self.net1 = net1\n",
    "        self.net2 = net2\n",
    "        \n",
    "        # Freeze parameters of base networks\n",
    "        for param in self.net1.parameters():\n",
    "            param.requires_grad = False\n",
    "        for param in self.net2.parameters():\n",
    "            param.requires_grad = False\n",
    "            \n",
    "        # The only trainable parameters: combination weights\n",
    "        self.alpha = nn.Parameter(torch.tensor(0.5))  # Weight for net1\n",
    "        self.beta = nn.Parameter(torch.tensor(0.5))   # Weight for net2\n",
    "        \n",
    "        # Store parameter names for easy access\n",
    "        self.param_names = ['fc1.weight', 'fc1.bias', 'fc2.weight', 'fc2.bias', 'fc3.weight', 'fc3.bias']\n",
    "        \n",
    "        # Create the same architecture structure for combined parameters\n",
    "        input_size = net1.fc1.in_features\n",
    "        hidden_size = net1.fc1.out_features\n",
    "        out_dim = net1.fc3.out_features\n",
    "        \n",
    "        self.fc1 = nn.Linear(input_size, hidden_size)\n",
    "        self.activation = nn.Sigmoid()\n",
    "        self.fc2 = nn.Linear(hidden_size, hidden_size)\n",
    "        self.fc3 = nn.Linear(hidden_size, out_dim)\n",
    "        \n",
    "    def _update_combined_parameters(self):\n",
    "        \"\"\"Update the parameters of this network as linear combination of the base networks\"\"\"\n",
    "        # Combine fc1 parameters\n",
    "        self.fc1.weight.data = self.alpha * self.net1.fc1.weight.data + self.beta * self.net2.fc1.weight.data\n",
    "        self.fc1.bias.data = self.alpha * self.net1.fc1.bias.data + self.beta * self.net2.fc1.bias.data\n",
    "        \n",
    "        # Combine fc2 parameters\n",
    "        self.fc2.weight.data = self.alpha * self.net1.fc2.weight.data + self.beta * self.net2.fc2.weight.data\n",
    "        self.fc2.bias.data = self.alpha * self.net1.fc2.bias.data + self.beta * self.net2.fc2.bias.data\n",
    "        \n",
    "        # Combine fc3 parameters\n",
    "        self.fc3.weight.data = self.alpha * self.net1.fc3.weight.data + self.beta * self.net2.fc3.weight.data\n",
    "        self.fc3.bias.data = self.alpha * self.net1.fc3.bias.data + self.beta * self.net2.fc3.bias.data\n",
    "        \n",
    "    def forward(self, x):\n",
    "        # Update combined parameters before forward pass\n",
    "        self._update_combined_parameters()\n",
    "        \n",
    "        # Forward pass with same architecture as base networks\n",
    "        out = self.fc1(x)\n",
    "        out = self.activation(out)\n",
    "        out = self.fc2(out)\n",
    "        out = self.activation(out)\n",
    "        out = self.fc3(out)\n",
    "        return out\n",
    "\n",
    "    "
   ]
  },
  {
   "cell_type": "markdown",
   "metadata": {},
   "source": [
    "Modifier la classe ci-dessous pour que chaque paramètre du modèle soit une combinaison lineaire du modèle précédent.\n",
    "\n",
    "Le code de vérification sera fourni par le professeur"
   ]
  },
  {
   "cell_type": "code",
   "execution_count": null,
   "metadata": {},
   "outputs": [],
   "source": [
    "coeffs =nn.Parameter(torch.randn(2))\n",
    "combined_model = LinearNeuralNet(modelA,modelB,coeffs)"
   ]
  },
  {
   "cell_type": "markdown",
   "metadata": {},
   "source": []
  },
  {
   "cell_type": "markdown",
   "metadata": {},
   "source": [
    "# Exercice 2  :  Charger le dataset suivant dans pytorch et afficher des images de chaque classe: \n",
    "https://drive.google.com/file/d/1V_zyw7kZ1YnPYM4VzCtP9agY7PiFuH-P/view?usp=sharing"
   ]
  },
  {
   "cell_type": "markdown",
   "metadata": {},
   "source": [
    "Ecrire une classe Dataset permettant de charger de manière efficace le dataset enregistré à l'addresse ci-dessus\n",
    "\n",
    "Chaque dossier d'entrée constitue un label du dataset\n",
    "\n",
    "Votre classe doit retourner deux valeurs : L'image x et le label y  ( Entier) .\n",
    "\n",
    "Il n'est pas autorisé d'utiliser des fonctions custom Pytorch en lien avec torch.utils.data.Dataset.\n",
    "\n",
    "Le squelette de code suivant est un point de départ pour vous.\n",
    "\n",
    "## Le code sera testé pour: \n",
    "* sa capacité à afficher n'importe quelle image et son label\n",
    "* sa rapidité d'execution pour charger toutes les images\n",
    "\n",
    "Le code de vérification et de mesure du temps d'execution sera fourni.\n",
    "\n",
    "### Une bonification sera appliquée pour tout code qui pourra aussi charger automatiquement un autre dataset semblable qui sera revelé après le depot des devoirs."
   ]
  },
  {
   "cell_type": "code",
   "execution_count": null,
   "metadata": {},
   "outputs": [],
   "source": [
    "class mondataset(torch.utils.data.Dataset):\n",
    "    def __init__(self, path):\n",
    "     \n",
    "\n",
    "    def __len__(self):\n",
    "        return NotImplemented\n",
    "    \n",
    "\n",
    "    def __getitem__(self, idx):\n",
    "      \n",
    "            \n",
    "        return x,y"
   ]
  }
 ],
 "metadata": {
  "kernelspec": {
   "display_name": "Python 3 (ipykernel)",
   "language": "python",
   "name": "python3"
  },
  "language_info": {
   "codemirror_mode": {
    "name": "ipython",
    "version": 3
   },
   "file_extension": ".py",
   "mimetype": "text/x-python",
   "name": "python",
   "nbconvert_exporter": "python",
   "pygments_lexer": "ipython3",
   "version": "3.9.7"
  }
 },
 "nbformat": 4,
 "nbformat_minor": 2
}
