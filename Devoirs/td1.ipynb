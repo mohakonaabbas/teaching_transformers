{
 "cells": [
  {
   "cell_type": "markdown",
   "metadata": {},
   "source": [
    "# A rendre pour le 12 Octobre 2025 , 00h00"
   ]
  },
  {
   "cell_type": "markdown",
   "metadata": {},
   "source": [
    "# Exercice 1"
   ]
  },
  {
   "cell_type": "markdown",
   "metadata": {},
   "source": [
    "Le but de cet exercice est d'utiliser de manière avancée la classe nn.Module de Pytorch.\n",
    "Pour ce faire, il faut créer un Module Pytorch dont les paramètres seront la combinaison linéaire de autres modules semblables."
   ]
  },
  {
   "cell_type": "code",
   "execution_count": null,
   "metadata": {},
   "outputs": [],
   "source": [
    "import torch\n",
    "import torch.nn as nn"
   ]
  },
  {
   "cell_type": "code",
   "execution_count": null,
   "metadata": {},
   "outputs": [],
   "source": [
    "# Fully connected neural network with one hidden layer\n",
    "class NeuralNet(nn.Module):\n",
    "    def __init__(self, input_size, hidden_size, out_dim):\n",
    "        \"\"\"\n",
    "        Args\n",
    "        input_size : Taille d'entrée\n",
    "        hidden_size : dimension couches cachées\n",
    "        out_dim : dimension de sortie\n",
    "\n",
    "        \"\"\"\n",
    "        super(NeuralNet, self).__init__()\n",
    "        self.fc1 = nn.Linear(input_size, hidden_size) \n",
    "        self.activation = nn.Sigmoid()\n",
    "        self.fc2 = nn.Linear(hidden_size, hidden_size)  \n",
    "        self.fc3 = nn.Linear(hidden_size, out_dim) \n",
    "\n",
    "    \n",
    "    def forward(self, x):\n",
    "        \n",
    "        out = self.fc1(x)\n",
    "        out = self.activation(out)\n",
    "        out = self.fc2(out)\n",
    "        out = self.activation(out)\n",
    "        out = self.fc3(out)\n",
    "        return out"
   ]
  },
  {
   "cell_type": "code",
   "execution_count": null,
   "metadata": {},
   "outputs": [],
   "source": [
    "\n",
    "device = torch.device(\"cuda\") if torch.cuda.is_available() else torch.device(\"cpu\")"
   ]
  },
  {
   "cell_type": "code",
   "execution_count": null,
   "metadata": {},
   "outputs": [],
   "source": [
    "input_size = 1\n",
    "hidden_size = 32\n",
    "num_classes = 1\n",
    "modelA = NeuralNet(input_size, hidden_size, num_classes).to(device)\n",
    "modelB = NeuralNet(input_size, hidden_size, num_classes).to(device)"
   ]
  },
  {
   "cell_type": "code",
   "execution_count": null,
   "metadata": {},
   "outputs": [],
   "source": []
  },
  {
   "cell_type": "markdown",
   "metadata": {},
   "source": [
    "Modifier la classe ci-dessous pour que chaque paramètre du modèle soit une combinaison lineaire des modèles"
   ]
  },
  {
   "cell_type": "markdown",
   "metadata": {},
   "source": [
    "# Create the model"
   ]
  },
  {
   "cell_type": "code",
   "execution_count": null,
   "metadata": {},
   "outputs": [],
   "source": [
    "# Fully connected neural network with one hidden layer\n",
    "class LinearNeuralNet(nn.Module):\n",
    "    def __init__(self, model1 : NeuralNet,\n",
    "                    model2 : NeuralNet, \n",
    "                    coeffs : nn.Parameter):\n",
    "        \n",
    "        \"\"\"\n",
    "        Args\n",
    "        model1 : Modèle d'entrée 1\n",
    "        model2 : Modèle d'entrée 2\n",
    "        coeffs : coefficients des modèles\n",
    "        \"\"\"\n",
    "        super(LinearNeuralNet, self).__init__()\n",
    "\n",
    "        #TO DO \n",
    "        \n",
    "        \n",
    "    \n",
    "        \n",
    "\n",
    "    \n",
    "    def forward(self, x):\n",
    "        \n",
    "        #TO DO\n",
    "\n",
    "    "
   ]
  },
  {
   "cell_type": "markdown",
   "metadata": {},
   "source": [
    "Modifier la classe ci-dessous pour que chaque paramètre du modèle soit une combinaison lineaire du modèle précédent.\n",
    "\n",
    "Le code de vérification sera fourni par le professeur"
   ]
  },
  {
   "cell_type": "code",
   "execution_count": null,
   "metadata": {},
   "outputs": [],
   "source": [
    "coeffs =nn.Parameter(torch.randn(2))\n",
    "combined_model = LinearNeuralNet(modelA,modelB,coeffs)"
   ]
  },
  {
   "cell_type": "markdown",
   "metadata": {},
   "source": []
  },
  {
   "cell_type": "markdown",
   "metadata": {},
   "source": [
    "# Exercice 2  :  Charger le dataset suivant dans pytorch et afficher des images de chaque classe: \n",
    "https://drive.google.com/file/d/1V_zyw7kZ1YnPYM4VzCtP9agY7PiFuH-P/view?usp=sharing"
   ]
  },
  {
   "cell_type": "markdown",
   "metadata": {},
   "source": [
    "Ecrire une classe Dataset permettant de charger de manière efficace le dataset enregistré à l'addresse ci-dessus\n",
    "\n",
    "Chaque dossier d'entrée constitue un label du dataset\n",
    "\n",
    "Votre classe doit retourner deux valeurs : L'image x et le label y  ( Entier) .\n",
    "\n",
    "Il n'est pas autorisé d'utiliser des fonctions custom Pytorch en lien avec torch.utils.data.Dataset.\n",
    "\n",
    "Le squelette de code suivant est un point de départ pour vous.\n",
    "\n",
    "## Le code sera testé pour: \n",
    "* sa capacité à afficher n'importe quelle image et son label\n",
    "* sa rapidité d'execution pour charger toutes les images\n",
    "\n",
    "Le code de vérification et de mesure du temps d'execution sera fourni.\n",
    "\n",
    "### Une bonification sera appliquée pour tout code qui pourra aussi charger automatiquement un autre dataset semblable qui sera revelé après le depot des devoirs."
   ]
  },
  {
   "cell_type": "code",
   "execution_count": null,
   "metadata": {},
   "outputs": [],
   "source": [
    "class mondataset(torch.utils.data.Dataset):\n",
    "    def __init__(self, path):\n",
    "     \n",
    "\n",
    "    def __len__(self):\n",
    "        return NotImplemented\n",
    "    \n",
    "\n",
    "    def __getitem__(self, idx):\n",
    "      \n",
    "            \n",
    "        return x,y"
   ]
  }
 ],
 "metadata": {
  "kernelspec": {
   "display_name": "Python 3 (ipykernel)",
   "language": "python",
   "name": "python3"
  },
  "language_info": {
   "codemirror_mode": {
    "name": "ipython",
    "version": 3
   },
   "file_extension": ".py",
   "mimetype": "text/x-python",
   "name": "python",
   "nbconvert_exporter": "python",
   "pygments_lexer": "ipython3",
   "version": "3.9.7"
  }
 },
 "nbformat": 4,
 "nbformat_minor": 2
}
